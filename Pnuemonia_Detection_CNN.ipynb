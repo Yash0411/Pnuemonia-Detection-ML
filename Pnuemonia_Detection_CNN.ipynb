{
  "nbformat": 4,
  "nbformat_minor": 0,
  "metadata": {
    "kernelspec": {
      "language": "python",
      "display_name": "Python 3",
      "name": "python3"
    },
    "language_info": {
      "pygments_lexer": "ipython3",
      "nbconvert_exporter": "python",
      "version": "3.6.4",
      "file_extension": ".py",
      "codemirror_mode": {
        "name": "ipython",
        "version": 3
      },
      "name": "python",
      "mimetype": "text/x-python"
    },
    "colab": {
      "name": "Pnuemonia Detection CNN.ipynb",
      "provenance": [],
      "include_colab_link": true
    },
    "accelerator": "GPU"
  },
  "cells": [
    {
      "cell_type": "markdown",
      "metadata": {
        "id": "view-in-github",
        "colab_type": "text"
      },
      "source": [
        "<a href=\"https://colab.research.google.com/github/Yash0411/Pnuemonia-Detection-ML/blob/master/Pnuemonia_Detection_CNN.ipynb\" target=\"_parent\"><img src=\"https://colab.research.google.com/assets/colab-badge.svg\" alt=\"Open In Colab\"/></a>"
      ]
    },
    {
      "cell_type": "code",
      "metadata": {
        "_uuid": "8f2839f25d086af736a60e9eeb907d3b93b6e0e5",
        "_cell_guid": "b1076dfc-b9ad-4769-8c92-a6c4dae69d19",
        "trusted": true,
        "id": "5c3ZTYECrHtC",
        "colab_type": "code",
        "outputId": "31b54df1-1511-4427-e574-b95f85c98299",
        "colab": {
          "resources": {
            "http://localhost:8080/nbextensions/google.colab/files.js": {
              "data": "Ly8gQ29weXJpZ2h0IDIwMTcgR29vZ2xlIExMQwovLwovLyBMaWNlbnNlZCB1bmRlciB0aGUgQXBhY2hlIExpY2Vuc2UsIFZlcnNpb24gMi4wICh0aGUgIkxpY2Vuc2UiKTsKLy8geW91IG1heSBub3QgdXNlIHRoaXMgZmlsZSBleGNlcHQgaW4gY29tcGxpYW5jZSB3aXRoIHRoZSBMaWNlbnNlLgovLyBZb3UgbWF5IG9idGFpbiBhIGNvcHkgb2YgdGhlIExpY2Vuc2UgYXQKLy8KLy8gICAgICBodHRwOi8vd3d3LmFwYWNoZS5vcmcvbGljZW5zZXMvTElDRU5TRS0yLjAKLy8KLy8gVW5sZXNzIHJlcXVpcmVkIGJ5IGFwcGxpY2FibGUgbGF3IG9yIGFncmVlZCB0byBpbiB3cml0aW5nLCBzb2Z0d2FyZQovLyBkaXN0cmlidXRlZCB1bmRlciB0aGUgTGljZW5zZSBpcyBkaXN0cmlidXRlZCBvbiBhbiAiQVMgSVMiIEJBU0lTLAovLyBXSVRIT1VUIFdBUlJBTlRJRVMgT1IgQ09ORElUSU9OUyBPRiBBTlkgS0lORCwgZWl0aGVyIGV4cHJlc3Mgb3IgaW1wbGllZC4KLy8gU2VlIHRoZSBMaWNlbnNlIGZvciB0aGUgc3BlY2lmaWMgbGFuZ3VhZ2UgZ292ZXJuaW5nIHBlcm1pc3Npb25zIGFuZAovLyBsaW1pdGF0aW9ucyB1bmRlciB0aGUgTGljZW5zZS4KCi8qKgogKiBAZmlsZW92ZXJ2aWV3IEhlbHBlcnMgZm9yIGdvb2dsZS5jb2xhYiBQeXRob24gbW9kdWxlLgogKi8KKGZ1bmN0aW9uKHNjb3BlKSB7CmZ1bmN0aW9uIHNwYW4odGV4dCwgc3R5bGVBdHRyaWJ1dGVzID0ge30pIHsKICBjb25zdCBlbGVtZW50ID0gZG9jdW1lbnQuY3JlYXRlRWxlbWVudCgnc3BhbicpOwogIGVsZW1lbnQudGV4dENvbnRlbnQgPSB0ZXh0OwogIGZvciAoY29uc3Qga2V5IG9mIE9iamVjdC5rZXlzKHN0eWxlQXR0cmlidXRlcykpIHsKICAgIGVsZW1lbnQuc3R5bGVba2V5XSA9IHN0eWxlQXR0cmlidXRlc1trZXldOwogIH0KICByZXR1cm4gZWxlbWVudDsKfQoKLy8gTWF4IG51bWJlciBvZiBieXRlcyB3aGljaCB3aWxsIGJlIHVwbG9hZGVkIGF0IGEgdGltZS4KY29uc3QgTUFYX1BBWUxPQURfU0laRSA9IDEwMCAqIDEwMjQ7Ci8vIE1heCBhbW91bnQgb2YgdGltZSB0byBibG9jayB3YWl0aW5nIGZvciB0aGUgdXNlci4KY29uc3QgRklMRV9DSEFOR0VfVElNRU9VVF9NUyA9IDMwICogMTAwMDsKCmZ1bmN0aW9uIF91cGxvYWRGaWxlcyhpbnB1dElkLCBvdXRwdXRJZCkgewogIGNvbnN0IHN0ZXBzID0gdXBsb2FkRmlsZXNTdGVwKGlucHV0SWQsIG91dHB1dElkKTsKICBjb25zdCBvdXRwdXRFbGVtZW50ID0gZG9jdW1lbnQuZ2V0RWxlbWVudEJ5SWQob3V0cHV0SWQpOwogIC8vIENhY2hlIHN0ZXBzIG9uIHRoZSBvdXRwdXRFbGVtZW50IHRvIG1ha2UgaXQgYXZhaWxhYmxlIGZvciB0aGUgbmV4dCBjYWxsCiAgLy8gdG8gdXBsb2FkRmlsZXNDb250aW51ZSBmcm9tIFB5dGhvbi4KICBvdXRwdXRFbGVtZW50LnN0ZXBzID0gc3RlcHM7CgogIHJldHVybiBfdXBsb2FkRmlsZXNDb250aW51ZShvdXRwdXRJZCk7Cn0KCi8vIFRoaXMgaXMgcm91Z2hseSBhbiBhc3luYyBnZW5lcmF0b3IgKG5vdCBzdXBwb3J0ZWQgaW4gdGhlIGJyb3dzZXIgeWV0KSwKLy8gd2hlcmUgdGhlcmUgYXJlIG11bHRpcGxlIGFzeW5jaHJvbm91cyBzdGVwcyBhbmQgdGhlIFB5dGhvbiBzaWRlIGlzIGdvaW5nCi8vIHRvIHBvbGwgZm9yIGNvbXBsZXRpb24gb2YgZWFjaCBzdGVwLgovLyBUaGlzIHVzZXMgYSBQcm9taXNlIHRvIGJsb2NrIHRoZSBweXRob24gc2lkZSBvbiBjb21wbGV0aW9uIG9mIGVhY2ggc3RlcCwKLy8gdGhlbiBwYXNzZXMgdGhlIHJlc3VsdCBvZiB0aGUgcHJldmlvdXMgc3RlcCBhcyB0aGUgaW5wdXQgdG8gdGhlIG5leHQgc3RlcC4KZnVuY3Rpb24gX3VwbG9hZEZpbGVzQ29udGludWUob3V0cHV0SWQpIHsKICBjb25zdCBvdXRwdXRFbGVtZW50ID0gZG9jdW1lbnQuZ2V0RWxlbWVudEJ5SWQob3V0cHV0SWQpOwogIGNvbnN0IHN0ZXBzID0gb3V0cHV0RWxlbWVudC5zdGVwczsKCiAgY29uc3QgbmV4dCA9IHN0ZXBzLm5leHQob3V0cHV0RWxlbWVudC5sYXN0UHJvbWlzZVZhbHVlKTsKICByZXR1cm4gUHJvbWlzZS5yZXNvbHZlKG5leHQudmFsdWUucHJvbWlzZSkudGhlbigodmFsdWUpID0+IHsKICAgIC8vIENhY2hlIHRoZSBsYXN0IHByb21pc2UgdmFsdWUgdG8gbWFrZSBpdCBhdmFpbGFibGUgdG8gdGhlIG5leHQKICAgIC8vIHN0ZXAgb2YgdGhlIGdlbmVyYXRvci4KICAgIG91dHB1dEVsZW1lbnQubGFzdFByb21pc2VWYWx1ZSA9IHZhbHVlOwogICAgcmV0dXJuIG5leHQudmFsdWUucmVzcG9uc2U7CiAgfSk7Cn0KCi8qKgogKiBHZW5lcmF0b3IgZnVuY3Rpb24gd2hpY2ggaXMgY2FsbGVkIGJldHdlZW4gZWFjaCBhc3luYyBzdGVwIG9mIHRoZSB1cGxvYWQKICogcHJvY2Vzcy4KICogQHBhcmFtIHtzdHJpbmd9IGlucHV0SWQgRWxlbWVudCBJRCBvZiB0aGUgaW5wdXQgZmlsZSBwaWNrZXIgZWxlbWVudC4KICogQHBhcmFtIHtzdHJpbmd9IG91dHB1dElkIEVsZW1lbnQgSUQgb2YgdGhlIG91dHB1dCBkaXNwbGF5LgogKiBAcmV0dXJuIHshSXRlcmFibGU8IU9iamVjdD59IEl0ZXJhYmxlIG9mIG5leHQgc3RlcHMuCiAqLwpmdW5jdGlvbiogdXBsb2FkRmlsZXNTdGVwKGlucHV0SWQsIG91dHB1dElkKSB7CiAgY29uc3QgaW5wdXRFbGVtZW50ID0gZG9jdW1lbnQuZ2V0RWxlbWVudEJ5SWQoaW5wdXRJZCk7CiAgaW5wdXRFbGVtZW50LmRpc2FibGVkID0gZmFsc2U7CgogIGNvbnN0IG91dHB1dEVsZW1lbnQgPSBkb2N1bWVudC5nZXRFbGVtZW50QnlJZChvdXRwdXRJZCk7CiAgb3V0cHV0RWxlbWVudC5pbm5lckhUTUwgPSAnJzsKCiAgY29uc3QgcGlja2VkUHJvbWlzZSA9IG5ldyBQcm9taXNlKChyZXNvbHZlKSA9PiB7CiAgICBpbnB1dEVsZW1lbnQuYWRkRXZlbnRMaXN0ZW5lcignY2hhbmdlJywgKGUpID0+IHsKICAgICAgcmVzb2x2ZShlLnRhcmdldC5maWxlcyk7CiAgICB9KTsKICB9KTsKCiAgY29uc3QgY2FuY2VsID0gZG9jdW1lbnQuY3JlYXRlRWxlbWVudCgnYnV0dG9uJyk7CiAgaW5wdXRFbGVtZW50LnBhcmVudEVsZW1lbnQuYXBwZW5kQ2hpbGQoY2FuY2VsKTsKICBjYW5jZWwudGV4dENvbnRlbnQgPSAnQ2FuY2VsIHVwbG9hZCc7CiAgY29uc3QgY2FuY2VsUHJvbWlzZSA9IG5ldyBQcm9taXNlKChyZXNvbHZlKSA9PiB7CiAgICBjYW5jZWwub25jbGljayA9ICgpID0+IHsKICAgICAgcmVzb2x2ZShudWxsKTsKICAgIH07CiAgfSk7CgogIC8vIENhbmNlbCB1cGxvYWQgaWYgdXNlciBoYXNuJ3QgcGlja2VkIGFueXRoaW5nIGluIHRpbWVvdXQuCiAgY29uc3QgdGltZW91dFByb21pc2UgPSBuZXcgUHJvbWlzZSgocmVzb2x2ZSkgPT4gewogICAgc2V0VGltZW91dCgoKSA9PiB7CiAgICAgIHJlc29sdmUobnVsbCk7CiAgICB9LCBGSUxFX0NIQU5HRV9USU1FT1VUX01TKTsKICB9KTsKCiAgLy8gV2FpdCBmb3IgdGhlIHVzZXIgdG8gcGljayB0aGUgZmlsZXMuCiAgY29uc3QgZmlsZXMgPSB5aWVsZCB7CiAgICBwcm9taXNlOiBQcm9taXNlLnJhY2UoW3BpY2tlZFByb21pc2UsIHRpbWVvdXRQcm9taXNlLCBjYW5jZWxQcm9taXNlXSksCiAgICByZXNwb25zZTogewogICAgICBhY3Rpb246ICdzdGFydGluZycsCiAgICB9CiAgfTsKCiAgaWYgKCFmaWxlcykgewogICAgcmV0dXJuIHsKICAgICAgcmVzcG9uc2U6IHsKICAgICAgICBhY3Rpb246ICdjb21wbGV0ZScsCiAgICAgIH0KICAgIH07CiAgfQoKICBjYW5jZWwucmVtb3ZlKCk7CgogIC8vIERpc2FibGUgdGhlIGlucHV0IGVsZW1lbnQgc2luY2UgZnVydGhlciBwaWNrcyBhcmUgbm90IGFsbG93ZWQuCiAgaW5wdXRFbGVtZW50LmRpc2FibGVkID0gdHJ1ZTsKCiAgZm9yIChjb25zdCBmaWxlIG9mIGZpbGVzKSB7CiAgICBjb25zdCBsaSA9IGRvY3VtZW50LmNyZWF0ZUVsZW1lbnQoJ2xpJyk7CiAgICBsaS5hcHBlbmQoc3BhbihmaWxlLm5hbWUsIHtmb250V2VpZ2h0OiAnYm9sZCd9KSk7CiAgICBsaS5hcHBlbmQoc3BhbigKICAgICAgICBgKCR7ZmlsZS50eXBlIHx8ICduL2EnfSkgLSAke2ZpbGUuc2l6ZX0gYnl0ZXMsIGAgKwogICAgICAgIGBsYXN0IG1vZGlmaWVkOiAkewogICAgICAgICAgICBmaWxlLmxhc3RNb2RpZmllZERhdGUgPyBmaWxlLmxhc3RNb2RpZmllZERhdGUudG9Mb2NhbGVEYXRlU3RyaW5nKCkgOgogICAgICAgICAgICAgICAgICAgICAgICAgICAgICAgICAgICAnbi9hJ30gLSBgKSk7CiAgICBjb25zdCBwZXJjZW50ID0gc3BhbignMCUgZG9uZScpOwogICAgbGkuYXBwZW5kQ2hpbGQocGVyY2VudCk7CgogICAgb3V0cHV0RWxlbWVudC5hcHBlbmRDaGlsZChsaSk7CgogICAgY29uc3QgZmlsZURhdGFQcm9taXNlID0gbmV3IFByb21pc2UoKHJlc29sdmUpID0+IHsKICAgICAgY29uc3QgcmVhZGVyID0gbmV3IEZpbGVSZWFkZXIoKTsKICAgICAgcmVhZGVyLm9ubG9hZCA9IChlKSA9PiB7CiAgICAgICAgcmVzb2x2ZShlLnRhcmdldC5yZXN1bHQpOwogICAgICB9OwogICAgICByZWFkZXIucmVhZEFzQXJyYXlCdWZmZXIoZmlsZSk7CiAgICB9KTsKICAgIC8vIFdhaXQgZm9yIHRoZSBkYXRhIHRvIGJlIHJlYWR5LgogICAgbGV0IGZpbGVEYXRhID0geWllbGQgewogICAgICBwcm9taXNlOiBmaWxlRGF0YVByb21pc2UsCiAgICAgIHJlc3BvbnNlOiB7CiAgICAgICAgYWN0aW9uOiAnY29udGludWUnLAogICAgICB9CiAgICB9OwoKICAgIC8vIFVzZSBhIGNodW5rZWQgc2VuZGluZyB0byBhdm9pZCBtZXNzYWdlIHNpemUgbGltaXRzLiBTZWUgYi82MjExNTY2MC4KICAgIGxldCBwb3NpdGlvbiA9IDA7CiAgICB3aGlsZSAocG9zaXRpb24gPCBmaWxlRGF0YS5ieXRlTGVuZ3RoKSB7CiAgICAgIGNvbnN0IGxlbmd0aCA9IE1hdGgubWluKGZpbGVEYXRhLmJ5dGVMZW5ndGggLSBwb3NpdGlvbiwgTUFYX1BBWUxPQURfU0laRSk7CiAgICAgIGNvbnN0IGNodW5rID0gbmV3IFVpbnQ4QXJyYXkoZmlsZURhdGEsIHBvc2l0aW9uLCBsZW5ndGgpOwogICAgICBwb3NpdGlvbiArPSBsZW5ndGg7CgogICAgICBjb25zdCBiYXNlNjQgPSBidG9hKFN0cmluZy5mcm9tQ2hhckNvZGUuYXBwbHkobnVsbCwgY2h1bmspKTsKICAgICAgeWllbGQgewogICAgICAgIHJlc3BvbnNlOiB7CiAgICAgICAgICBhY3Rpb246ICdhcHBlbmQnLAogICAgICAgICAgZmlsZTogZmlsZS5uYW1lLAogICAgICAgICAgZGF0YTogYmFzZTY0LAogICAgICAgIH0sCiAgICAgIH07CiAgICAgIHBlcmNlbnQudGV4dENvbnRlbnQgPQogICAgICAgICAgYCR7TWF0aC5yb3VuZCgocG9zaXRpb24gLyBmaWxlRGF0YS5ieXRlTGVuZ3RoKSAqIDEwMCl9JSBkb25lYDsKICAgIH0KICB9CgogIC8vIEFsbCBkb25lLgogIHlpZWxkIHsKICAgIHJlc3BvbnNlOiB7CiAgICAgIGFjdGlvbjogJ2NvbXBsZXRlJywKICAgIH0KICB9Owp9CgpzY29wZS5nb29nbGUgPSBzY29wZS5nb29nbGUgfHwge307CnNjb3BlLmdvb2dsZS5jb2xhYiA9IHNjb3BlLmdvb2dsZS5jb2xhYiB8fCB7fTsKc2NvcGUuZ29vZ2xlLmNvbGFiLl9maWxlcyA9IHsKICBfdXBsb2FkRmlsZXMsCiAgX3VwbG9hZEZpbGVzQ29udGludWUsCn07Cn0pKHNlbGYpOwo=",
              "ok": true,
              "headers": [
                [
                  "content-type",
                  "application/javascript"
                ]
              ],
              "status": 200,
              "status_text": "OK"
            }
          },
          "base_uri": "https://localhost:8080/",
          "height": 96
        }
      },
      "source": [
        "# This Python 3 environment comes with many helpful analytics libraries installed\n",
        "# It is defined by the kaggle/python Docker image: https://github.com/kaggle/docker-python\n",
        "# For example, here's several helpful packages to load\n",
        "\n",
        "import numpy as np # linear algebra\n",
        "import pandas as pd # data processing, CSV file I/O (e.g. pd.read_csv)\n",
        "import tensorflow as tf\n",
        "from tensorflow.keras.optimizers import RMSprop\n",
        "from tensorflow.keras.preprocessing.image import ImageDataGenerator\n",
        "# Input data files are available in the read-only \"../input/\" directory\n",
        "# For example, running this (by clicking run or pressing Shift+Enter) will list all files under the input directory\n",
        "\n",
        "from google.colab import files\n",
        "files.upload() #upload kaggle.json\n",
        " \n",
        "!pip install -q kaggle\n",
        "!mkdir -p ~/.kaggle\n",
        "!cp kaggle.json ~/.kaggle/\n",
        "!ls ~/.kaggle\n",
        "!chmod 600 /root/.kaggle/kaggle.json\n"
      ],
      "execution_count": 1,
      "outputs": [
        {
          "output_type": "display_data",
          "data": {
            "text/html": [
              "\n",
              "     <input type=\"file\" id=\"files-c6e01042-79ba-451c-bc0e-796132ea44e4\" name=\"files[]\" multiple disabled />\n",
              "     <output id=\"result-c6e01042-79ba-451c-bc0e-796132ea44e4\">\n",
              "      Upload widget is only available when the cell has been executed in the\n",
              "      current browser session. Please rerun this cell to enable.\n",
              "      </output>\n",
              "      <script src=\"/nbextensions/google.colab/files.js\"></script> "
            ],
            "text/plain": [
              "<IPython.core.display.HTML object>"
            ]
          },
          "metadata": {
            "tags": []
          }
        },
        {
          "output_type": "stream",
          "text": [
            "Saving kaggle.json to kaggle.json\n",
            "kaggle.json\n"
          ],
          "name": "stdout"
        }
      ]
    },
    {
      "cell_type": "code",
      "metadata": {
        "id": "8aSqvbeAsUVX",
        "colab_type": "code",
        "colab": {
          "base_uri": "https://localhost:8080/",
          "height": 72
        },
        "outputId": "d0b6f6cf-a84d-4f5b-dd69-bfc545d05d8e"
      },
      "source": [
        "!kaggle datasets download -d praveengovi/coronahack-chest-xraydataset"
      ],
      "execution_count": 2,
      "outputs": [
        {
          "output_type": "stream",
          "text": [
            "Downloading coronahack-chest-xraydataset.zip to /content\n",
            "100% 1.18G/1.19G [00:19<00:00, 64.3MB/s]\n",
            "100% 1.19G/1.19G [00:19<00:00, 66.6MB/s]\n"
          ],
          "name": "stdout"
        }
      ]
    },
    {
      "cell_type": "code",
      "metadata": {
        "id": "XCqFgo4gsdbx",
        "colab_type": "code",
        "colab": {
          "base_uri": "https://localhost:8080/",
          "height": 72
        },
        "outputId": "ad253025-6522-4539-b0cc-fa721f908ae5"
      },
      "source": [
        "!unzip -q /content/coronahack-chest-xraydataset.zip -d .\n",
        "!ls"
      ],
      "execution_count": 3,
      "outputs": [
        {
          "output_type": "stream",
          "text": [
            "Chest_xray_Corona_dataset_Summary.csv  coronahack-chest-xraydataset.zip\n",
            "Chest_xray_Corona_Metadata.csv\t       kaggle.json\n",
            "Coronahack-Chest-XRay-Dataset\t       sample_data\n"
          ],
          "name": "stdout"
        }
      ]
    },
    {
      "cell_type": "code",
      "metadata": {
        "id": "Sf1WE038sHGF",
        "colab_type": "code",
        "colab": {}
      },
      "source": [
        "import os\n",
        "for dirname, _, filenames in os.walk('/content/Coronahack-Chest-XRay-Dataset/Coronahack-Chest-XRay-Dataset'):\n",
        "    for filename in filenames:\n",
        "        print(os.path.join(dirname, filename))\n",
        "\n",
        "# You can write up to 5GB to the current directory (/kaggle/working/) that gets preserved as output when you create a version using \"Save & Run All\" \n",
        "# You can also write temporary files to /kaggle/temp/, but they won't be saved outside of the current session"
      ],
      "execution_count": 0,
      "outputs": []
    },
    {
      "cell_type": "code",
      "metadata": {
        "trusted": true,
        "id": "9tQySVnUrHt6",
        "colab_type": "code",
        "colab": {
          "base_uri": "https://localhost:8080/",
          "height": 72
        },
        "outputId": "c4055a72-5f70-4e6e-a395-ba3d4cefa769"
      },
      "source": [
        "training_dir = os.listdir('/content/Coronahack-Chest-XRay-Dataset/Coronahack-Chest-XRay-Dataset/train')\n",
        "testing_dir = os.listdir('/content/Coronahack-Chest-XRay-Dataset/Coronahack-Chest-XRay-Dataset/test')\n",
        "\n",
        "print(len(training_dir))\n",
        "print(len(testing_dir))\n",
        "\n",
        "\n",
        "os.mkdir('data')\n",
        "\n",
        "\n",
        "os.mkdir('data/training')\n",
        "os.mkdir('data/testing')\n",
        "os.mkdir('data/training/normal')\n",
        "os.mkdir('data/training/pnuemonia')\n",
        "os.mkdir('data/testing/normal')\n",
        "os.mkdir('data/testing/pnuemonia')\n",
        "\n",
        "data =  os.listdir('data')\n",
        "print(len(data))"
      ],
      "execution_count": 5,
      "outputs": [
        {
          "output_type": "stream",
          "text": [
            "5309\n",
            "624\n",
            "2\n"
          ],
          "name": "stdout"
        }
      ]
    },
    {
      "cell_type": "code",
      "metadata": {
        "trusted": true,
        "id": "SCyLZwiUrHu2",
        "colab_type": "code",
        "colab": {}
      },
      "source": [
        "import zipfile\n",
        "import random\n",
        "import tensorflow as tf\n",
        "import shutil\n",
        "from tensorflow.keras.optimizers import RMSprop\n",
        "from tensorflow.keras.preprocessing.image import ImageDataGenerator\n",
        "from shutil import copyfile\n",
        "from os import getcwd\n",
        "import csv\n",
        "\n",
        "def split_data(SOURCE, TRAINING_NORMAL_DIR, TESTING_NORMAL_DIR, TRAINING_AFFECT_DIR, TESTING_AFFECT_DIR, SPLIT_SIZE):\n",
        "\n",
        "    #print(SOURCE, TRAINING_NORMAL_DIR, TESTING_NORMAL_DIR, TRAINING_AFFECT_DIR, TESTING_AFFECT_DIR, SPLIT_SIZE)\n",
        "    affected=[]\n",
        "    normal = []\n",
        "    \n",
        "    fname = \"/content/Chest_xray_Corona_Metadata.csv\"\n",
        "    \n",
        "    with open(fname, 'r') as csvfile:  \n",
        "        csvreader = csv.reader(csvfile) \n",
        "      \n",
        "        # extracting field names through first row \n",
        "        fields = next(csvreader) \n",
        "    \n",
        "        for row in csvreader :\n",
        "          file = SOURCE + row[1]\n",
        "          label = row[2]\n",
        "          #print(label,file)\n",
        "          \n",
        "            \n",
        "          if os.path.exists(file):\n",
        "            if os.path.getsize(file) > 0:\n",
        "              if row[2] == \"Normal\":\n",
        "                normal.append(row[1])\n",
        "              else:\n",
        "                affected.append(row[1])\n",
        "                #files.append(filename)\n",
        "            else:\n",
        "              print(row + \" is zero length, so ignoring.\")\n",
        "        \n",
        "        \n",
        "    aff_training_length = int(len(affected) * SPLIT_SIZE)\n",
        "    aff_testing_length = int(len(affected) - aff_training_length)\n",
        "    norm_training_length = int(len(normal) * SPLIT_SIZE)\n",
        "    norm_testing_length = int(len(normal) - norm_training_length)\n",
        "    \n",
        "    shuffled_set_aff = random.sample(affected, len(affected))\n",
        "    shuffled_set_norm = random.sample(normal, len(normal))\n",
        "    \n",
        "    aff_training_set = shuffled_set_aff[0:aff_training_length]\n",
        "    aff_testing_set = shuffled_set_aff[-aff_testing_length:]   \n",
        "    \n",
        "    norm_training_set = shuffled_set_norm[0:norm_training_length]\n",
        "    norm_testing_set = shuffled_set_norm[-norm_testing_length:] \n",
        "    \n",
        "    for filename in aff_training_set:\n",
        "        this_file = SOURCE + filename\n",
        "        destination = TRAINING_AFFECT_DIR + filename\n",
        "        copyfile(this_file, destination)\n",
        "\n",
        "    for filename in aff_testing_set:\n",
        "        this_file = SOURCE + filename\n",
        "        destination = TESTING_AFFECT_DIR + filename\n",
        "        copyfile(this_file, destination)\n",
        "        \n",
        "    for filename in norm_training_set:\n",
        "        this_file = SOURCE + filename\n",
        "        destination = TRAINING_NORMAL_DIR + filename\n",
        "        copyfile(this_file, destination)\n",
        "\n",
        "    for filename in norm_testing_set:\n",
        "        this_file = SOURCE + filename\n",
        "        destination = TESTING_NORMAL_DIR + filename\n",
        "        copyfile(this_file, destination)\n",
        "\n",
        "            \n",
        "\n",
        "\n",
        "\n",
        "SOURCE_DIR = \"/content/Coronahack-Chest-XRay-Dataset/Coronahack-Chest-XRay-Dataset/train/\"\n",
        "TRAINING_NORMAL_DIR = \"/content/data/training/normal/\"\n",
        "TESTING_NORMAL_DIR = \"/content/data/testing/normal/\"\n",
        "TRAINING_AFFECT_DIR = \"/content/data/training/pnuemonia/\"\n",
        "TESTING_AFFECT_DIR = \"/content/data/testing/pnuemonia/\"\n",
        "\n",
        "split_size = .9\n",
        "split_data(SOURCE_DIR, TRAINING_NORMAL_DIR, TESTING_NORMAL_DIR,TRAINING_AFFECT_DIR, TESTING_AFFECT_DIR, split_size)"
      ],
      "execution_count": 0,
      "outputs": []
    },
    {
      "cell_type": "code",
      "metadata": {
        "trusted": true,
        "id": "eHxg9O8SrHvw",
        "colab_type": "code",
        "colab": {
          "base_uri": "https://localhost:8080/",
          "height": 109
        },
        "outputId": "9027685a-7f76-47f2-da39-5da9c875cc85"
      },
      "source": [
        "print(len(os.listdir(SOURCE_DIR)))\n",
        "print(len(os.listdir(TRAINING_NORMAL_DIR)))\n",
        "print(len(os.listdir(TESTING_NORMAL_DIR)))\n",
        "print(len(os.listdir(TRAINING_AFFECT_DIR)))\n",
        "print(len(os.listdir(TESTING_AFFECT_DIR)))"
      ],
      "execution_count": 7,
      "outputs": [
        {
          "output_type": "stream",
          "text": [
            "5309\n",
            "1207\n",
            "135\n",
            "3549\n",
            "395\n"
          ],
          "name": "stdout"
        }
      ]
    },
    {
      "cell_type": "code",
      "metadata": {
        "trusted": true,
        "id": "xYXWxFeirHwX",
        "colab_type": "code",
        "colab": {}
      },
      "source": [
        "model = tf.keras.models.Sequential([\n",
        "    tf.keras.layers.Conv2D(16, (3, 3), activation='relu', input_shape=(150, 150, 3)),\n",
        "    tf.keras.layers.MaxPooling2D((2, 2), (2,2)),\n",
        "    \n",
        "    tf.keras.layers.Conv2D(32, (3, 3), activation='relu'),\n",
        "    tf.keras.layers.MaxPooling2D((2, 2), (2,2)),\n",
        "\n",
        "    tf.keras.layers.Conv2D(32, (3, 3), activation='relu'),\n",
        "    tf.keras.layers.MaxPooling2D((2, 2), (2,2)),\n",
        "    \n",
        "    tf.keras.layers.Flatten(),\n",
        "    tf.keras.layers.Dense(512, activation='relu'),\n",
        "    tf.keras.layers.Dense(1, activation='sigmoid')\n",
        "])\n",
        "\n",
        "model.compile(optimizer=RMSprop(lr=0.001), loss='binary_crossentropy', metrics=['acc'])"
      ],
      "execution_count": 0,
      "outputs": []
    },
    {
      "cell_type": "code",
      "metadata": {
        "trusted": true,
        "id": "7Q8urh7WrHw0",
        "colab_type": "code",
        "colab": {
          "base_uri": "https://localhost:8080/",
          "height": 54
        },
        "outputId": "1b46d177-1116-4e73-f871-310dad820b05"
      },
      "source": [
        "TRAINING_DIR = \"/content/data/training\"\n",
        "train_datagen = ImageDataGenerator( rescale=1./255.)\n",
        "\n",
        "train_generator = train_datagen.flow_from_directory(TRAINING_DIR,\n",
        "                                                    batch_size=100,\n",
        "                                                    class_mode='binary',\n",
        "                                                    target_size=(150, 150))\n",
        "\n",
        "\n",
        "VALIDATION_DIR = \"/content/data/testing\"\n",
        "validation_datagen = ImageDataGenerator(rescale = 1.0 / 255)\n",
        "\n",
        "validation_generator = validation_datagen.flow_from_directory(VALIDATION_DIR,\n",
        "                                                   batch_size = 10,\n",
        "                                                   class_mode = \"binary\",\n",
        "                                                   target_size = (150,150))"
      ],
      "execution_count": 21,
      "outputs": [
        {
          "output_type": "stream",
          "text": [
            "Found 4756 images belonging to 2 classes.\n",
            "Found 530 images belonging to 2 classes.\n"
          ],
          "name": "stdout"
        }
      ]
    },
    {
      "cell_type": "code",
      "metadata": {
        "trusted": true,
        "id": "kHayIetdrHxP",
        "colab_type": "code",
        "colab": {
          "base_uri": "https://localhost:8080/",
          "height": 1000
        },
        "outputId": "46043f5d-4d6c-4343-e283-23cf4587455b"
      },
      "source": [
        "history = model.fit(train_generator,\n",
        "                              epochs=50,\n",
        "                              verbose=1,\n",
        "                              validation_data=validation_generator)"
      ],
      "execution_count": 22,
      "outputs": [
        {
          "output_type": "stream",
          "text": [
            "Epoch 1/50\n",
            "48/48 [==============================] - 54s 1s/step - loss: 0.6784 - acc: 0.7748 - val_loss: 0.2370 - val_acc: 0.9226\n",
            "Epoch 2/50\n",
            "48/48 [==============================] - 54s 1s/step - loss: 0.2200 - acc: 0.9186 - val_loss: 0.1242 - val_acc: 0.9604\n",
            "Epoch 3/50\n",
            "48/48 [==============================] - 54s 1s/step - loss: 0.1738 - acc: 0.9378 - val_loss: 0.1102 - val_acc: 0.9604\n",
            "Epoch 4/50\n",
            "48/48 [==============================] - 54s 1s/step - loss: 0.1469 - acc: 0.9447 - val_loss: 0.1024 - val_acc: 0.9660\n",
            "Epoch 5/50\n",
            "48/48 [==============================] - 53s 1s/step - loss: 0.1351 - acc: 0.9554 - val_loss: 0.1686 - val_acc: 0.9358\n",
            "Epoch 6/50\n",
            "48/48 [==============================] - 53s 1s/step - loss: 0.1120 - acc: 0.9611 - val_loss: 0.0910 - val_acc: 0.9736\n",
            "Epoch 7/50\n",
            "48/48 [==============================] - 53s 1s/step - loss: 0.0824 - acc: 0.9693 - val_loss: 0.0733 - val_acc: 0.9774\n",
            "Epoch 8/50\n",
            "48/48 [==============================] - 53s 1s/step - loss: 0.1068 - acc: 0.9695 - val_loss: 0.0762 - val_acc: 0.9755\n",
            "Epoch 9/50\n",
            "48/48 [==============================] - 53s 1s/step - loss: 0.0596 - acc: 0.9790 - val_loss: 0.0992 - val_acc: 0.9717\n",
            "Epoch 10/50\n",
            "48/48 [==============================] - 53s 1s/step - loss: 0.0571 - acc: 0.9781 - val_loss: 0.0752 - val_acc: 0.9830\n",
            "Epoch 11/50\n",
            "48/48 [==============================] - 53s 1s/step - loss: 0.0507 - acc: 0.9817 - val_loss: 0.0797 - val_acc: 0.9755\n",
            "Epoch 12/50\n",
            "48/48 [==============================] - 53s 1s/step - loss: 0.0311 - acc: 0.9882 - val_loss: 0.0882 - val_acc: 0.9755\n",
            "Epoch 13/50\n",
            "48/48 [==============================] - 53s 1s/step - loss: 0.0315 - acc: 0.9878 - val_loss: 0.0777 - val_acc: 0.9792\n",
            "Epoch 14/50\n",
            "48/48 [==============================] - 53s 1s/step - loss: 0.0256 - acc: 0.9914 - val_loss: 0.2804 - val_acc: 0.9302\n",
            "Epoch 15/50\n",
            "48/48 [==============================] - 53s 1s/step - loss: 0.0236 - acc: 0.9916 - val_loss: 0.0987 - val_acc: 0.9736\n",
            "Epoch 16/50\n",
            "48/48 [==============================] - 53s 1s/step - loss: 0.0175 - acc: 0.9941 - val_loss: 0.1069 - val_acc: 0.9698\n",
            "Epoch 17/50\n",
            "48/48 [==============================] - 53s 1s/step - loss: 0.0278 - acc: 0.9926 - val_loss: 0.1011 - val_acc: 0.9755\n",
            "Epoch 18/50\n",
            "48/48 [==============================] - 53s 1s/step - loss: 0.0180 - acc: 0.9954 - val_loss: 0.6333 - val_acc: 0.8679\n",
            "Epoch 19/50\n",
            "48/48 [==============================] - 53s 1s/step - loss: 0.0175 - acc: 0.9950 - val_loss: 0.1270 - val_acc: 0.9755\n",
            "Epoch 20/50\n",
            "48/48 [==============================] - 53s 1s/step - loss: 0.0548 - acc: 0.9916 - val_loss: 0.1293 - val_acc: 0.9755\n",
            "Epoch 21/50\n",
            "48/48 [==============================] - 53s 1s/step - loss: 0.0196 - acc: 0.9966 - val_loss: 0.1176 - val_acc: 0.9717\n",
            "Epoch 22/50\n",
            "48/48 [==============================] - 53s 1s/step - loss: 0.0051 - acc: 0.9985 - val_loss: 0.1372 - val_acc: 0.9792\n",
            "Epoch 23/50\n",
            "48/48 [==============================] - 53s 1s/step - loss: 0.0428 - acc: 0.9947 - val_loss: 0.1487 - val_acc: 0.9717\n",
            "Epoch 24/50\n",
            "48/48 [==============================] - 53s 1s/step - loss: 0.0017 - acc: 0.9996 - val_loss: 0.1731 - val_acc: 0.9774\n",
            "Epoch 25/50\n",
            "48/48 [==============================] - 53s 1s/step - loss: 0.0110 - acc: 0.9971 - val_loss: 0.1569 - val_acc: 0.9736\n",
            "Epoch 26/50\n",
            "48/48 [==============================] - 54s 1s/step - loss: 0.0016 - acc: 0.9994 - val_loss: 0.4711 - val_acc: 0.9377\n",
            "Epoch 27/50\n",
            "48/48 [==============================] - 54s 1s/step - loss: 0.0223 - acc: 0.9956 - val_loss: 0.1694 - val_acc: 0.9736\n",
            "Epoch 28/50\n",
            "48/48 [==============================] - 53s 1s/step - loss: 0.0201 - acc: 0.9973 - val_loss: 0.3045 - val_acc: 0.9566\n",
            "Epoch 29/50\n",
            "48/48 [==============================] - 54s 1s/step - loss: 0.0041 - acc: 0.9987 - val_loss: 0.1828 - val_acc: 0.9811\n",
            "Epoch 30/50\n",
            "48/48 [==============================] - 54s 1s/step - loss: 1.0020e-04 - acc: 1.0000 - val_loss: 0.1971 - val_acc: 0.9811\n",
            "Epoch 31/50\n",
            "48/48 [==============================] - 54s 1s/step - loss: 0.0134 - acc: 0.9971 - val_loss: 0.1654 - val_acc: 0.9792\n",
            "Epoch 32/50\n",
            "48/48 [==============================] - 54s 1s/step - loss: 0.0218 - acc: 0.9947 - val_loss: 0.1346 - val_acc: 0.9736\n",
            "Epoch 33/50\n",
            "48/48 [==============================] - 54s 1s/step - loss: 0.0014 - acc: 1.0000 - val_loss: 0.3067 - val_acc: 0.9604\n",
            "Epoch 34/50\n",
            "48/48 [==============================] - 54s 1s/step - loss: 0.0168 - acc: 0.9962 - val_loss: 0.1373 - val_acc: 0.9811\n",
            "Epoch 35/50\n",
            "48/48 [==============================] - 55s 1s/step - loss: 1.3952e-04 - acc: 1.0000 - val_loss: 0.1704 - val_acc: 0.9792\n",
            "Epoch 36/50\n",
            "48/48 [==============================] - 54s 1s/step - loss: 1.6028e-05 - acc: 1.0000 - val_loss: 0.1929 - val_acc: 0.9811\n",
            "Epoch 37/50\n",
            "48/48 [==============================] - 54s 1s/step - loss: 0.0235 - acc: 0.9962 - val_loss: 0.1669 - val_acc: 0.9774\n",
            "Epoch 38/50\n",
            "48/48 [==============================] - 53s 1s/step - loss: 2.7363e-05 - acc: 1.0000 - val_loss: 0.2030 - val_acc: 0.9774\n",
            "Epoch 39/50\n",
            "48/48 [==============================] - 53s 1s/step - loss: 0.0110 - acc: 0.9971 - val_loss: 0.1320 - val_acc: 0.9774\n",
            "Epoch 40/50\n",
            "48/48 [==============================] - 53s 1s/step - loss: 2.7088e-04 - acc: 1.0000 - val_loss: 0.1743 - val_acc: 0.9774\n",
            "Epoch 41/50\n",
            "48/48 [==============================] - 53s 1s/step - loss: 6.8335e-06 - acc: 1.0000 - val_loss: 0.1949 - val_acc: 0.9774\n",
            "Epoch 42/50\n",
            "48/48 [==============================] - 53s 1s/step - loss: 0.0091 - acc: 0.9983 - val_loss: 0.2028 - val_acc: 0.9755\n",
            "Epoch 43/50\n",
            "48/48 [==============================] - 53s 1s/step - loss: 7.4078e-04 - acc: 0.9998 - val_loss: 0.2033 - val_acc: 0.9755\n",
            "Epoch 44/50\n",
            "48/48 [==============================] - 53s 1s/step - loss: 7.6719e-06 - acc: 1.0000 - val_loss: 0.2216 - val_acc: 0.9774\n",
            "Epoch 45/50\n",
            "48/48 [==============================] - 53s 1s/step - loss: 0.0101 - acc: 0.9983 - val_loss: 0.2228 - val_acc: 0.9774\n",
            "Epoch 46/50\n",
            "48/48 [==============================] - 53s 1s/step - loss: 0.0042 - acc: 0.9987 - val_loss: 0.2292 - val_acc: 0.9755\n",
            "Epoch 47/50\n",
            "48/48 [==============================] - 53s 1s/step - loss: 7.3442e-05 - acc: 1.0000 - val_loss: 0.2420 - val_acc: 0.9736\n",
            "Epoch 48/50\n",
            "48/48 [==============================] - 53s 1s/step - loss: 1.9905e-06 - acc: 1.0000 - val_loss: 0.2510 - val_acc: 0.9792\n",
            "Epoch 49/50\n",
            "48/48 [==============================] - 54s 1s/step - loss: 0.1928 - acc: 0.9922 - val_loss: 0.4076 - val_acc: 0.9547\n",
            "Epoch 50/50\n",
            "48/48 [==============================] - 53s 1s/step - loss: 0.0015 - acc: 0.9996 - val_loss: 0.1950 - val_acc: 0.9755\n"
          ],
          "name": "stdout"
        }
      ]
    },
    {
      "cell_type": "code",
      "metadata": {
        "trusted": true,
        "id": "5KD3B0g6rHxk",
        "colab_type": "code",
        "colab": {
          "base_uri": "https://localhost:8080/",
          "height": 545
        },
        "outputId": "90343f55-3c3c-49e7-95d7-d689f6664862"
      },
      "source": [
        "# PLOT LOSS AND ACCURACY\n",
        "%matplotlib inline\n",
        "\n",
        "import matplotlib.image  as mpimg\n",
        "import matplotlib.pyplot as plt\n",
        "\n",
        "#-----------------------------------------------------------\n",
        "# Retrieve a list of list results on training and test data\n",
        "# sets for each training epoch\n",
        "#-----------------------------------------------------------\n",
        "acc=history.history['acc']\n",
        "val_acc=history.history['val_acc']\n",
        "loss=history.history['loss']\n",
        "val_loss=history.history['val_loss']\n",
        "\n",
        "epochs=range(len(acc)) # Get number of epochs\n",
        "\n",
        "#------------------------------------------------\n",
        "# Plot training and validation accuracy per epoch\n",
        "#------------------------------------------------\n",
        "plt.plot(epochs, acc, 'r', label='Training accuracy')\n",
        "plt.plot(epochs, val_acc, 'b', label='Validation accuracy')\n",
        "plt.title('Training and validation accuracy')\n",
        "\n",
        "plt.figure()\n",
        "\n",
        "plt.plot(epochs, loss, 'r', label='Training Loss')\n",
        "plt.plot(epochs, val_loss, 'b', label='Validation Loss')\n",
        "plt.title('Training and validation loss')\n",
        "plt.legend()\n",
        "\n",
        "plt.show()"
      ],
      "execution_count": 33,
      "outputs": [
        {
          "output_type": "display_data",
          "data": {
            "image/png": "[encoded data removed]",
            "text/plain": [
              "<Figure size 432x288 with 1 Axes>"
            ]
          },
          "metadata": {
            "tags": [],
            "needs_background": "light"
          }
        },
        {
          "output_type": "display_data",
          "data": {
            "image/png": "[encoded data removed]",
            "text/plain": [
              "<Figure size 432x288 with 1 Axes>"
            ]
          },
          "metadata": {
            "tags": [],
            "needs_background": "light"
          }
        }
      ]
    },
    {
      "cell_type": "code",
      "metadata": {
        "id": "P4mktHu8tUha",
        "colab_type": "code",
        "colab": {}
      },
      "source": [
        "model.save(\"pnuemonia_detection.h5\")"
      ],
      "execution_count": 0,
      "outputs": []
    }
  ]
}